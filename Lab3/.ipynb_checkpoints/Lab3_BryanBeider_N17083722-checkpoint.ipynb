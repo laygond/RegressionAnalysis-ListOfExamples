{
 "cells": [
  {
   "cell_type": "markdown",
   "metadata": {},
   "source": [
    "---------------------------------------------Loading the data---------------------------------"
   ]
  },
  {
   "cell_type": "code",
   "execution_count": 3,
   "metadata": {},
   "outputs": [
    {
     "data": {
      "text/plain": [
       "dict_keys(['__header__', '__version__', '__globals__', 'Publication', 'timeBase', 'spikes', 'time', 'handVel', 'handPos', 'target', 'startBins', 'targets', 'startBinned'])"
      ]
     },
     "execution_count": 3,
     "metadata": {},
     "output_type": "execute_result"
    }
   ],
   "source": [
    "import numpy as np\n",
    "import matplotlib\n",
    "import matplotlib.pyplot as plt\n",
    "import scipy.io\n",
    "\n",
    "#READ DATA\n",
    "mat_dict = scipy.io.loadmat('StevensonV2.mat')\n",
    "mat_dict.keys()"
   ]
  },
  {
   "cell_type": "code",
   "execution_count": 57,
   "metadata": {},
   "outputs": [
    {
     "name": "stdout",
     "output_type": "stream",
     "text": [
      "Number of bins =  15536  Number of neurons =  196\n"
     ]
    }
   ],
   "source": [
    "X0 = mat_dict['spikes'].T\n",
    "y0 = mat_dict['handVel'][0,:]\n",
    "\n",
    "nt, nneurons = np.shape(X0)\n",
    "print('Number of bins = ', nt, ' Number of neurons = ', nneurons)\n"
   ]
  },
  {
   "cell_type": "code",
   "execution_count": 5,
   "metadata": {},
   "outputs": [
    {
     "name": "stdout",
     "output_type": "stream",
     "text": [
      "sample time =  [ 0.05]   duration time =  [ 776.8] seconds\n"
     ]
    }
   ],
   "source": [
    "#Since each entry time[k] is the starting time of the time bin k\n",
    "\n",
    "time = mat_dict['time']\n",
    "time = time.reshape((-1, 1))  #vertical\n",
    "\n",
    "len(time) == nt\n",
    "tsamp  = time[1]- time[0]\n",
    "ttotal = time[-1]- time[0] + tsamp\n",
    "\n",
    "print('sample time = ', tsamp,'  duration time = ', ttotal,  'seconds')"
   ]
  },
  {
   "cell_type": "markdown",
   "metadata": {},
   "source": [
    "----------------------------------Linear fitting on all the neurons----------------------------------"
   ]
  },
  {
   "cell_type": "code",
   "execution_count": 6,
   "metadata": {
    "collapsed": true
   },
   "outputs": [],
   "source": [
    "#We next split the data into training and test -- will use roughly half the samples for each.\n",
    "n_train = nt // 2\n",
    "n_test = nt - n_train\n",
    "X_tr = X0[:n_train,:]     # Gets the first n_train rows of X0\n",
    "y_tr = y0[:n_train]       # Gets the correspoinding rows of y0\n",
    "X_ts = X0[n_train:,:] \n",
    "y_ts = y0[n_train:]   "
   ]
  },
  {
   "cell_type": "code",
   "execution_count": 7,
   "metadata": {},
   "outputs": [
    {
     "data": {
      "text/plain": [
       "LinearRegression(copy_X=True, fit_intercept=True, n_jobs=1, normalize=False)"
      ]
     },
     "execution_count": 7,
     "metadata": {},
     "output_type": "execute_result"
    }
   ],
   "source": [
    "from sklearn import linear_model\n",
    "regr = linear_model.LinearRegression()\n",
    "regr.fit(X_tr,y_tr)"
   ]
  },
  {
   "cell_type": "code",
   "execution_count": 8,
   "metadata": {},
   "outputs": [
    {
     "name": "stdout",
     "output_type": "stream",
     "text": [
      "Normalized testing RSS=1889379842913849311232.000000\n"
     ]
    }
   ],
   "source": [
    "#Measure the normalized RSS on the TEST data\n",
    "# Measure normalized RSS\n",
    "y_ts_pred = regr.predict(X_ts)\n",
    "RSS_ts = np.mean((y_ts_pred-y_ts)**2)/(np.std(y_ts)**2)\n",
    "print(\"Normalized testing RSS=%f\" % RSS_ts)"
   ]
  },
  {
   "cell_type": "markdown",
   "metadata": {},
   "source": [
    "-------------------------------Linear Fitting with Heuristic Model Selection-------------------"
   ]
  },
  {
   "cell_type": "code",
   "execution_count": 16,
   "metadata": {},
   "outputs": [
    {
     "name": "stderr",
     "output_type": "stream",
     "text": [
      "C:\\Users\\Bryan\\Anaconda3\\lib\\site-packages\\ipykernel_launcher.py:13: RuntimeWarning: invalid value encountered in double_scalars\n",
      "  del sys.path[0]\n"
     ]
    },
    {
     "data": {
      "image/png": "[encoded data removed]",
      "text/plain": [
       "<matplotlib.figure.Figure at 0x27f2ffab748>"
      ]
     },
     "metadata": {},
     "output_type": "display_data"
    }
   ],
   "source": [
    "#----------COMPUTE COEFFICIENTS OF DETERMINATION------\n",
    "def Calc_R_2(x,y):\n",
    "    \"\"\"\n",
    "    Given vectors of data points (x,y), performs a fit for the linear model:\n",
    "       yhat = beta0 + beta1*x, \n",
    "    The function R_2, where R_2 is the coefficient of determination.\n",
    "    \"\"\"\n",
    "    xm = np.mean(x)\n",
    "    ym = np.mean(y)\n",
    "    syy = np.mean((y-ym)**2)\n",
    "    syx = np.mean((y-ym)*(x-xm))\n",
    "    sxx = np.mean((x-xm)**2)\n",
    "    R_2 = (syx*syx)/(sxx*syy)\n",
    "    return R_2\n",
    "\n",
    "Rsq = np.zeros(nneurons)             #Empty array to store R_2\n",
    "for i in range(nneurons):\n",
    "    Rsq[i] = Calc_R_2(X0[:,i],y0)\n",
    "\n",
    "Rsq = Rsq[~np.isnan(Rsq)]            #Get rid of NaN just in case\n",
    "\n",
    "plt.figure(1)\n",
    "plt.stem(Rsq)\n",
    "plt.show()\n"
   ]
  },
  {
   "cell_type": "code",
   "execution_count": 17,
   "metadata": {},
   "outputs": [
    {
     "data": {
      "text/plain": [
       "array([192,  98, 194, 120,  67, 135, 152, 151,  58, 191], dtype=int64)"
      ]
     },
     "execution_count": 17,
     "metadata": {},
     "output_type": "execute_result"
    }
   ],
   "source": [
    "d= 100\n",
    "Isel= np.argsort(Rsq)[-d:]\n",
    "Isel[-10:]"
   ]
  },
  {
   "cell_type": "code",
   "execution_count": 19,
   "metadata": {},
   "outputs": [
    {
     "name": "stdout",
     "output_type": "stream",
     "text": [
      "Normalized testing RSS=2.878749  RSS per sample testing RSS=0.009122\n"
     ]
    }
   ],
   "source": [
    "regr_d = linear_model.LinearRegression()\n",
    "regr_d.fit(X_tr[:,Isel],y_tr)\n",
    "\n",
    "#Measure the normalized and per sample RSS on the TEST data\n",
    "y_ts_pred = regr_d.predict(X_ts[:,:d])\n",
    "RSS_ts_persample = np.mean((y_ts_pred-y_ts)**2)\n",
    "RSS_ts =RSS_ts_persample/(np.std(y_ts)**2)\n",
    "print(\"Normalized testing RSS=%f  RSS per sample testing RSS=%f\" % (RSS_ts,RSS_ts_persample))"
   ]
  },
  {
   "cell_type": "code",
   "execution_count": 31,
   "metadata": {},
   "outputs": [
    {
     "data": {
      "image/png": "[encoded data removed]",
      "text/plain": [
       "<matplotlib.figure.Figure at 0x27f30869438>"
      ]
     },
     "metadata": {},
     "output_type": "display_data"
    }
   ],
   "source": [
    "# Scatter plot\n",
    "plt.figure(2)\n",
    "plt.scatter(y_ts_pred, y_ts)\n",
    "plt.ylabel('Predicted Testing and Testing')\n",
    "plt.plot(np.array([0,.2]),np.array([0,.2]),'r-')\n",
    "plt.grid()\n",
    "plt.show()"
   ]
  },
  {
   "cell_type": "markdown",
   "metadata": {},
   "source": [
    "--------------Using K-fold cross validation for the optimal number of neurons-------------------"
   ]
  },
  {
   "cell_type": "code",
   "execution_count": 60,
   "metadata": {},
   "outputs": [],
   "source": [
    "import  sklearn.model_selection \n",
    "\n",
    "# Create a k-fold object\n",
    "nfold = 10\n",
    "kf = sklearn.model_selection.KFold(n_splits=nfold,shuffle=True)\n",
    "\n",
    "# Model orders to be tested\n",
    "dtest = np.arange(10,200,10)\n",
    "nd = len(dtest)\n",
    "\n",
    "# Loop over the folds\n",
    "RSSts = np.zeros((nd,nfold))\n",
    "regr_d = linear_model.LinearRegression()\n",
    "for i in range(nd):\n",
    "    Isel= np.argsort(Rsq)[-dtest[i]:]\n",
    "    A = X0[:,Isel]\n",
    "    for isplit, Ind in enumerate(kf.split(X0[:,1])): #since we only need the indices we insert a 1D array   \n",
    "        # Get the training data in the split\n",
    "        Itr, Its = Ind\n",
    "        xtr = A[Itr,:]\n",
    "        ytr = y0[Itr]\n",
    "        xts = A[Its,:]\n",
    "        yts = y0[Its]   \n",
    "        \n",
    "        regr_d.fit(xtr,ytr)\n",
    "        #Measure per sample RSS on the TEST data\n",
    "        y_ts_pred = regr_d.predict(xts)\n",
    "        RSSts[i,isplit]= np.mean((y_ts_pred-yts)**2)"
   ]
  },
  {
   "cell_type": "code",
   "execution_count": 63,
   "metadata": {},
   "outputs": [
    {
     "data": {
      "image/png": "[encoded data removed]",
      "text/plain": [
       "<matplotlib.figure.Figure at 0x27f3078eeb8>"
      ]
     },
     "metadata": {},
     "output_type": "display_data"
    }
   ],
   "source": [
    "RSS_mean = np.mean(RSSts,axis=1)\n",
    "RSS_std  = np.std(RSSts,axis=1) / np.sqrt(nfold-1)\n",
    "plt.figure(3)\n",
    "plt.errorbar(dtest, RSS_mean, yerr=RSS_std, fmt='-')\n",
    "# plt.ylim(0,1)\n",
    "plt.xlabel('Model order')\n",
    "plt.ylabel('Test RSS')\n",
    "plt.grid()\n",
    "plt.show()"
   ]
  }
 ],
 "metadata": {
  "kernelspec": {
   "display_name": "Python 3",
   "language": "python",
   "name": "python3"
  },
  "language_info": {
   "codemirror_mode": {
    "name": "ipython",
    "version": 3
   },
   "file_extension": ".py",
   "mimetype": "text/x-python",
   "name": "python",
   "nbconvert_exporter": "python",
   "pygments_lexer": "ipython3",
   "version": "3.6.1"
  }
 },
 "nbformat": 4,
 "nbformat_minor": 2
}
