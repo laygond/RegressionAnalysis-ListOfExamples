{
 "cells": [
  {
   "cell_type": "code",
   "execution_count": null,
   "metadata": {
    "collapsed": true
   },
   "outputs": [],
   "source": []
  },
  {
   "cell_type": "code",
   "execution_count": null,
   "metadata": {
    "collapsed": true
   },
   "outputs": [],
   "source": [
    "import pandas as pd\n",
    "import numpy as np\n",
    "import matplotlib\n",
    "import matplotlib.pyplot as plt\n",
    "from sklearn import linear_model\n",
    "\n",
    "print('LOAD AND VISIALIZE THE DATA')#------------------\n",
    "#------------READ DATA ------------\n",
    "names =[\n",
    "    't',                                  # Time (secs)\n",
    "    'q1', 'q2', 'q3',                     # Joint angle   (rads)\n",
    "    'dq1', 'dq2', 'dq3',                  # Joint velocity (rads/sec)\n",
    "    'I1', 'I2', 'I3',                     # Motor current (A)\n",
    "    'eps21', 'eps22', 'eps31', 'eps32',   # Strain gauge measurements ($\\mu$m /m )\n",
    "    'ddq1', 'ddq2', 'ddq3'                # Joint accelerations (rad/sec^2)\n",
    "]\n",
    "\n",
    "df = pd.read_csv('exp1.txt', header=None,index_col=0,names=names,na_values='?')\n",
    "\n",
    "print(df.head(6))"
   ]
  },
  {
   "cell_type": "code",
   "execution_count": null,
   "metadata": {
    "collapsed": true
   },
   "outputs": [],
   "source": []
  },
  {
   "cell_type": "code",
   "execution_count": null,
   "metadata": {
    "collapsed": true
   },
   "outputs": [],
   "source": [
    "#------------Plot Current 2nd Joint -----------\n",
    "y = np.array(df['I2'])\n",
    "t = np.array(df.index.values)\n",
    "plt.plot(t,y,'ob')\n",
    "plt.xlabel('time')\n",
    "plt.ylabel('Current 2nd Joint')\n",
    "plt.grid(True)"
   ]
  },
  {
   "cell_type": "code",
   "execution_count": null,
   "metadata": {
    "collapsed": true
   },
   "outputs": [],
   "source": []
  },
  {
   "cell_type": "code",
   "execution_count": null,
   "metadata": {
    "collapsed": true
   },
   "outputs": [],
   "source": [
    "#-----------Define output and attributes -----\n",
    "\n",
    "ytrain = y\n",
    "Xtrain = np.array(df[['q2','dq2','eps21', 'eps22', 'eps31', 'eps32','ddq2']])"
   ]
  },
  {
   "cell_type": "code",
   "execution_count": null,
   "metadata": {
    "collapsed": true
   },
   "outputs": [],
   "source": []
  },
  {
   "cell_type": "code",
   "execution_count": null,
   "metadata": {
    "collapsed": true
   },
   "outputs": [],
   "source": [
    "print('FIT A LINEAR MODEL')#-----------------------\n",
    "regr = linear_model.LinearRegression()\n",
    "regr.fit(Xtrain,ytrain)\n",
    "#print('PRINT COEFFICIENTS = ',regr.coef)\n",
    "\n",
    "y_tr_pred = regr.predict(Xtrain)\n",
    "RSS_tr = np.mean((y_tr_pred-ytrain)**2)/(np.std(ytrain)**2)\n",
    "print(\"RSS per sample = {0:f}\".format(RSS_tr))\n",
    "\n",
    "plt.plot(t, y_tr_pred,'or')\n",
    "plt.ylabel('Predicted and Actual Current')\n",
    "plt.grid(True)"
   ]
  },
  {
   "cell_type": "code",
   "execution_count": null,
   "metadata": {
    "collapsed": true
   },
   "outputs": [],
   "source": []
  },
  {
   "cell_type": "code",
   "execution_count": null,
   "metadata": {
    "collapsed": false,
    "scrolled": true
   },
   "outputs": [],
   "source": [
    "print('Measure the Fit on an Indepdent Dataset')#-----------------------------\n",
    "df2 = pd.read_csv('exp2.txt', header=None,index_col=0,names=names,na_values='?')\n",
    "\n",
    "\n",
    "ytest = np.array(df2['I2'])\n",
    "Xtest = np.array(df2[['q2','dq2','eps21', 'eps22', 'eps31', 'eps32','ddq2']])\n",
    "t2 = np.array(df2.index.values)\n",
    "y_test_pred = regr.predict(Xtest)\n",
    "RSS_test = np.mean((y_test_pred-ytest)**2)/(np.std(ytest)**2)\n",
    "print(\"RSS per sample = {0:f}\".format(RSS_test))\n",
    "\n",
    "plt.figure(2)\n",
    "plt.plot(t2,ytest,'ob',t2,y_test_pred,'or')\n",
    "plt.ylabel('Predicted and Actual Current')\n",
    "plt.grid(True)\n",
    "plt.show()"
   ]
  }
 ],
 "metadata": {
  "kernelspec": {
   "display_name": "Python 3",
   "language": "python",
   "name": "python3"
  },
  "language_info": {
   "codemirror_mode": {
    "name": "ipython",
    "version": 3
   },
   "file_extension": ".py",
   "mimetype": "text/x-python",
   "name": "python",
   "nbconvert_exporter": "python",
   "pygments_lexer": "ipython3",
   "version": "3.7.0"
  }
 },
 "nbformat": 4,
 "nbformat_minor": 2
}
